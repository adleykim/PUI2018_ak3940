{
 "cells": [
  {
   "cell_type": "markdown",
   "metadata": {},
   "source": [
    "# Assignment 2\n",
    "## Adley Kim"
   ]
  },
  {
   "cell_type": "markdown",
   "metadata": {},
   "source": [
    "# Abstract\n",
    "\n",
    "This study examines differences in the change in ridership levels of male and female Citibike customers between the colder month of January and the warmer month of July. The proportion of female riders in January was found to be 4% lower than in July at a statistically significant level. These findings show that the decrease in ridership among female Citibike riders in the colder month of January is more pronounced than among male riders, however the limitations and potential consequences of these findings are discussed in the conclusion."
   ]
  },
  {
   "cell_type": "markdown",
   "metadata": {},
   "source": [
    "# Introduction\n",
    "\n",
    "Citibike is a privately-owned shared bicycle company operating in New York City and Jersey City. First launching in 2013, Citibike serves its customers through a total of 332 stations and 6000 bicycles. As of 2017, Citibike boasted 130,000 annual subscribers with a collective 50 million rides since its launch. Thanks to data made publicly-available on its website, Citibike provides data scientists with rich information that enables them to explore the behavior of urban cyclists and unlock findings that can make cities more conducive to an activity that is healthy for both its citizens and the environment.\n",
    "\n",
    "This study examines how ridership differs for male and female riders in colder months and warmer months."
   ]
  },
  {
   "cell_type": "markdown",
   "metadata": {},
   "source": [
    "# Research Questions:\n",
    "### Does temperature change alter riding behavior of Citibike customers?\n",
    "### Do these effects differ between men and women?\n",
    "\n",
    "# Hypotheses\n",
    "\n",
    "### Null Hypothesis: The proportion of female riders in January is not significantly different from the proportion of female riders in July.\n",
    "\n",
    "## $H_{0}: \\frac{Jan_{F}}{Jan_{Total}} - \\frac{Jul_{F}}{Jul_{Total}} = 0$\n",
    "\n",
    "### Alternative Hypothesis: The proportion of female riders in January is significantly different from the proportion of female riders in July.\n",
    "\n",
    "## $H_{1}: \\frac{Jan_{F}}{Jan_{Total}} - \\frac{Jul_{F}}{Jul_{Total}} \\neq 0$\n",
    "\n",
    "$\\alpha$ = 0.05"
   ]
  },
  {
   "cell_type": "markdown",
   "metadata": {},
   "source": [
    "# Data\n",
    "\n",
    "Ridership data for the months of July 2013 and January 2014 were downloaded from the [Citibike website](https://www.citibikenyc.com/system-data)."
   ]
  },
  {
   "cell_type": "code",
   "execution_count": 69,
   "metadata": {},
   "outputs": [],
   "source": [
    "import pandas as pd\n",
    "import numpy as np\n",
    "import matplotlib.pyplot as plt\n",
    "import urllib\n",
    "import warnings\n",
    "warnings.filterwarnings('ignore')\n",
    "\n",
    "%matplotlib inline"
   ]
  },
  {
   "cell_type": "code",
   "execution_count": 215,
   "metadata": {},
   "outputs": [
    {
     "name": "stdout",
     "output_type": "stream",
     "text": [
      "  % Total    % Received % Xferd  Average Speed   Time    Time     Time  Current\n",
      "                                 Dload  Upload   Total   Spent    Left  Speed\n",
      "100 25.8M  100 25.8M    0     0  44.2M      0 --:--:-- --:--:-- --:--:-- 44.2M\n",
      "  % Total    % Received % Xferd  Average Speed   Time    Time     Time  Current\n",
      "                                 Dload  Upload   Total   Spent    Left  Speed\n",
      "100 9470k  100 9470k    0     0  26.7M      0 --:--:-- --:--:-- --:--:-- 26.7M\n",
      "Archive:  /nfshome/ak3940/PUIdata/201307-citibike-tripdata.zip\n",
      "  inflating: 2013-07 - Citi Bike trip data.csv  \n",
      "Archive:  /nfshome/ak3940/PUIdata/201401-citibike-tripdata.zip\n",
      "  inflating: 2014-01 - Citi Bike trip data.csv  \n"
     ]
    }
   ],
   "source": [
    "!curl -O https://s3.amazonaws.com/tripdata/201307-citibike-tripdata.zip\n",
    "!curl -O https://s3.amazonaws.com/tripdata/201401-citibike-tripdata.zip\n",
    "!mv 201307-citibike-tripdata.zip $PUIDATA\n",
    "!mv 201401-citibike-tripdata.zip $PUIDATA\n",
    "!unzip $PUIDATA/201307-citibike-tripdata.zip\n",
    "!unzip $PUIDATA/201401-citibike-tripdata.zip"
   ]
  },
  {
   "cell_type": "code",
   "execution_count": 220,
   "metadata": {},
   "outputs": [
    {
     "data": {
      "text/html": [
       "<div>\n",
       "<table border=\"1\" class=\"dataframe\">\n",
       "  <thead>\n",
       "    <tr style=\"text-align: right;\">\n",
       "      <th></th>\n",
       "      <th>month</th>\n",
       "      <th>date</th>\n",
       "      <th>gender</th>\n",
       "      <th>trips</th>\n",
       "    </tr>\n",
       "  </thead>\n",
       "  <tbody>\n",
       "    <tr>\n",
       "      <th>0</th>\n",
       "      <td>July</td>\n",
       "      <td>2013-07-01</td>\n",
       "      <td>Male</td>\n",
       "      <td>11095</td>\n",
       "    </tr>\n",
       "    <tr>\n",
       "      <th>1</th>\n",
       "      <td>July</td>\n",
       "      <td>2013-07-01</td>\n",
       "      <td>Female</td>\n",
       "      <td>2821</td>\n",
       "    </tr>\n",
       "    <tr>\n",
       "      <th>2</th>\n",
       "      <td>July</td>\n",
       "      <td>2013-07-02</td>\n",
       "      <td>Female</td>\n",
       "      <td>4029</td>\n",
       "    </tr>\n",
       "    <tr>\n",
       "      <th>3</th>\n",
       "      <td>July</td>\n",
       "      <td>2013-07-02</td>\n",
       "      <td>Male</td>\n",
       "      <td>14645</td>\n",
       "    </tr>\n",
       "    <tr>\n",
       "      <th>4</th>\n",
       "      <td>July</td>\n",
       "      <td>2013-07-03</td>\n",
       "      <td>Male</td>\n",
       "      <td>13967</td>\n",
       "    </tr>\n",
       "  </tbody>\n",
       "</table>\n",
       "</div>"
      ],
      "text/plain": [
       "  month        date  gender  trips\n",
       "0  July  2013-07-01    Male  11095\n",
       "1  July  2013-07-01  Female   2821\n",
       "2  July  2013-07-02  Female   4029\n",
       "3  July  2013-07-02    Male  14645\n",
       "4  July  2013-07-03    Male  13967"
      ]
     },
     "execution_count": 220,
     "metadata": {},
     "output_type": "execute_result"
    }
   ],
   "source": [
    "jul = pd.read_csv('~/PUIdata/2013-07 - Citi Bike trip data.csv')\n",
    "jan = pd.read_csv('~/PUIdata/2014-01 - Citi Bike trip data.csv')\n",
    "\n",
    "data = jul.append(jan)\n",
    "data = data[data['gender'] > 0]\n",
    "data['gender'] = data['gender'].replace({1 : 'Male', 2 : 'Female'})\n",
    "data['starttime'] = pd.to_datetime(data['starttime'])\n",
    "data['month'] = data['starttime'].dt.month\n",
    "data['month'] = data['month'].replace({7 : 'July', 1 : 'January'})\n",
    "data['date'] = data['starttime'].dt.date\n",
    "\n",
    "data = data.groupby(['month', 'date', 'gender']).count()\n",
    "data = pd.DataFrame(data =data['tripduration'])\n",
    "data = data.rename(columns = {'tripduration' : 'trips'})\n",
    "data = data.reset_index(level=['gender', 'month', 'date'])\n",
    "data = data.sort_values(by=['date'])\n",
    "data = data.reset_index()\n",
    "data = data.drop(['index'], axis = 1)\n",
    "\n",
    "data.head()"
   ]
  },
  {
   "cell_type": "code",
   "execution_count": 84,
   "metadata": {
    "scrolled": true
   },
   "outputs": [
    {
     "data": {
      "text/html": [
       "<div>\n",
       "<table border=\"1\" class=\"dataframe\">\n",
       "  <thead>\n",
       "    <tr style=\"text-align: right;\">\n",
       "      <th></th>\n",
       "      <th>month</th>\n",
       "      <th>date</th>\n",
       "      <th>trips_female</th>\n",
       "      <th>trips_male</th>\n",
       "      <th>trips_total</th>\n",
       "    </tr>\n",
       "  </thead>\n",
       "  <tbody>\n",
       "    <tr>\n",
       "      <th>0</th>\n",
       "      <td>July</td>\n",
       "      <td>2013-07-01</td>\n",
       "      <td>2821</td>\n",
       "      <td>11095</td>\n",
       "      <td>13916</td>\n",
       "    </tr>\n",
       "    <tr>\n",
       "      <th>1</th>\n",
       "      <td>July</td>\n",
       "      <td>2013-07-02</td>\n",
       "      <td>4029</td>\n",
       "      <td>14645</td>\n",
       "      <td>18674</td>\n",
       "    </tr>\n",
       "    <tr>\n",
       "      <th>2</th>\n",
       "      <td>July</td>\n",
       "      <td>2013-07-03</td>\n",
       "      <td>3746</td>\n",
       "      <td>13967</td>\n",
       "      <td>17713</td>\n",
       "    </tr>\n",
       "    <tr>\n",
       "      <th>3</th>\n",
       "      <td>July</td>\n",
       "      <td>2013-07-04</td>\n",
       "      <td>3135</td>\n",
       "      <td>8419</td>\n",
       "      <td>11554</td>\n",
       "    </tr>\n",
       "    <tr>\n",
       "      <th>4</th>\n",
       "      <td>July</td>\n",
       "      <td>2013-07-05</td>\n",
       "      <td>3234</td>\n",
       "      <td>10431</td>\n",
       "      <td>13665</td>\n",
       "    </tr>\n",
       "  </tbody>\n",
       "</table>\n",
       "</div>"
      ],
      "text/plain": [
       "  month        date  trips_female  trips_male  trips_total\n",
       "0  July  2013-07-01          2821       11095        13916\n",
       "1  July  2013-07-02          4029       14645        18674\n",
       "2  July  2013-07-03          3746       13967        17713\n",
       "3  July  2013-07-04          3135        8419        11554\n",
       "4  July  2013-07-05          3234       10431        13665"
      ]
     },
     "execution_count": 84,
     "metadata": {},
     "output_type": "execute_result"
    }
   ],
   "source": [
    "tripW = data[data['gender'] == 'Female']\n",
    "tripW = tripW.rename(columns = {'trips' : 'trips_female'})\n",
    "tripW = tripW.drop('gender', axis=1)\n",
    "tripM = data[data['gender'] == 'Male']\n",
    "tripM = tripM.rename(columns = {'trips' : 'trips_male'})\n",
    "tripM = tripM.drop('gender', axis=1)\n",
    "\n",
    "trips = tripW.merge(tripM)\n",
    "trips['trips_total'] = trips['trips_female'] + trips['trips_male']\n",
    "trips.head()"
   ]
  },
  {
   "cell_type": "code",
   "execution_count": 127,
   "metadata": {},
   "outputs": [
    {
     "data": {
      "text/html": [
       "<div>\n",
       "<table border=\"1\" class=\"dataframe\">\n",
       "  <thead>\n",
       "    <tr style=\"text-align: right;\">\n",
       "      <th></th>\n",
       "      <th>month</th>\n",
       "      <th>date</th>\n",
       "      <th>trips_female</th>\n",
       "      <th>trips_male</th>\n",
       "      <th>trips_total</th>\n",
       "      <th>day</th>\n",
       "    </tr>\n",
       "  </thead>\n",
       "  <tbody>\n",
       "    <tr>\n",
       "      <th>0</th>\n",
       "      <td>July</td>\n",
       "      <td>2013-07-01</td>\n",
       "      <td>2821</td>\n",
       "      <td>11095</td>\n",
       "      <td>13916</td>\n",
       "      <td>1</td>\n",
       "    </tr>\n",
       "    <tr>\n",
       "      <th>1</th>\n",
       "      <td>July</td>\n",
       "      <td>2013-07-02</td>\n",
       "      <td>4029</td>\n",
       "      <td>14645</td>\n",
       "      <td>18674</td>\n",
       "      <td>2</td>\n",
       "    </tr>\n",
       "    <tr>\n",
       "      <th>2</th>\n",
       "      <td>July</td>\n",
       "      <td>2013-07-03</td>\n",
       "      <td>3746</td>\n",
       "      <td>13967</td>\n",
       "      <td>17713</td>\n",
       "      <td>3</td>\n",
       "    </tr>\n",
       "    <tr>\n",
       "      <th>3</th>\n",
       "      <td>July</td>\n",
       "      <td>2013-07-04</td>\n",
       "      <td>3135</td>\n",
       "      <td>8419</td>\n",
       "      <td>11554</td>\n",
       "      <td>4</td>\n",
       "    </tr>\n",
       "    <tr>\n",
       "      <th>4</th>\n",
       "      <td>July</td>\n",
       "      <td>2013-07-05</td>\n",
       "      <td>3234</td>\n",
       "      <td>10431</td>\n",
       "      <td>13665</td>\n",
       "      <td>5</td>\n",
       "    </tr>\n",
       "  </tbody>\n",
       "</table>\n",
       "</div>"
      ],
      "text/plain": [
       "  month       date  trips_female  trips_male  trips_total  day\n",
       "0  July 2013-07-01          2821       11095        13916    1\n",
       "1  July 2013-07-02          4029       14645        18674    2\n",
       "2  July 2013-07-03          3746       13967        17713    3\n",
       "3  July 2013-07-04          3135        8419        11554    4\n",
       "4  July 2013-07-05          3234       10431        13665    5"
      ]
     },
     "execution_count": 127,
     "metadata": {},
     "output_type": "execute_result"
    }
   ],
   "source": [
    "trips['date'] = pd.to_datetime(trips['date'])\n",
    "trips['day'] = trips['date'].dt.day\n",
    "trips.head()"
   ]
  },
  {
   "cell_type": "markdown",
   "metadata": {},
   "source": [
    "# Methodology\n",
    "\n",
    "This study uses two tests to measure the difference in sample proportions for female and male ridership in the months of January and July: the **chi-squared test of proporations** and a two-sided **z-test of proportions**."
   ]
  },
  {
   "cell_type": "markdown",
   "metadata": {},
   "source": [
    "### Chi-Squared Test of Proportions"
   ]
  },
  {
   "cell_type": "code",
   "execution_count": 216,
   "metadata": {},
   "outputs": [
    {
     "data": {
      "text/html": [
       "<div>\n",
       "<table border=\"1\" class=\"dataframe\">\n",
       "  <thead>\n",
       "    <tr style=\"text-align: right;\">\n",
       "      <th></th>\n",
       "      <th>january (#)</th>\n",
       "      <th>january (%)</th>\n",
       "      <th>july (#)</th>\n",
       "      <th>july (%)</th>\n",
       "      <th>total</th>\n",
       "    </tr>\n",
       "    <tr>\n",
       "      <th>gender</th>\n",
       "      <th></th>\n",
       "      <th></th>\n",
       "      <th></th>\n",
       "      <th></th>\n",
       "      <th></th>\n",
       "    </tr>\n",
       "  </thead>\n",
       "  <tbody>\n",
       "    <tr>\n",
       "      <th>female</th>\n",
       "      <td>57025</td>\n",
       "      <td>0.194538</td>\n",
       "      <td>157006</td>\n",
       "      <td>0.234868</td>\n",
       "      <td>214031</td>\n",
       "    </tr>\n",
       "    <tr>\n",
       "      <th>male</th>\n",
       "      <td>236106</td>\n",
       "      <td>0.805462</td>\n",
       "      <td>511479</td>\n",
       "      <td>0.765132</td>\n",
       "      <td>747585</td>\n",
       "    </tr>\n",
       "    <tr>\n",
       "      <th>total</th>\n",
       "      <td>293131</td>\n",
       "      <td>1.000000</td>\n",
       "      <td>668485</td>\n",
       "      <td>1.000000</td>\n",
       "      <td>961616</td>\n",
       "    </tr>\n",
       "  </tbody>\n",
       "</table>\n",
       "</div>"
      ],
      "text/plain": [
       "        january (#)  january (%)  july (#)  july (%)   total\n",
       "gender                                                      \n",
       "female        57025     0.194538    157006  0.234868  214031\n",
       "male         236106     0.805462    511479  0.765132  747585\n",
       "total        293131     1.000000    668485  1.000000  961616"
      ]
     },
     "execution_count": 216,
     "metadata": {},
     "output_type": "execute_result"
    }
   ],
   "source": [
    "janF = trips['trips_female'][trips['month'] == 'January'].sum() #all female trips in January\n",
    "janM = trips['trips_male'][trips['month'] == 'January'].sum() #all male trips in January\n",
    "janT = trips['trips_total'][trips['month'] == 'January'].sum() #total trips in January\n",
    "\n",
    "julF = trips['trips_female'][trips['month'] == 'July'].sum() #all female trips in January\n",
    "julM = trips['trips_male'][trips['month'] == 'July'].sum() #all male trips in January\n",
    "julT = trips['trips_total'][trips['month'] == 'July'].sum() #total trips in January\n",
    "\n",
    "allF = trips['trips_female'].sum() #all female trips\n",
    "allM = trips['trips_male'].sum() #all male trips\n",
    "allT = trips['trips_total'].sum() #all trips\n",
    "\n",
    "#expected frequencies\n",
    "janFexp = janT * (allF / allT)\n",
    "janMexp = janT * (allM / allT)\n",
    "julFexp = julT * (allF / allT)\n",
    "julMexp = julT * (allM / allT)\n",
    "\n",
    "tab = pd.DataFrame({'gender': ['female', 'male', 'total'],\n",
    "                    'july (#)': [julF, julM, julT], 'july (%)': [julF / julT, julM / julT, julT / julT],\n",
    "                    'january (#)': [janF, janM, janT], 'january (%)': [janF / janT, janM / janT, janT / janT],\n",
    "                    'total':[allF, allM, allT]})\n",
    "\n",
    "tab = tab.set_index('gender')\n",
    "\n",
    "tab"
   ]
  },
  {
   "cell_type": "code",
   "execution_count": 228,
   "metadata": {},
   "outputs": [
    {
     "name": "stdout",
     "output_type": "stream",
     "text": [
      "chi-squared: 1915.5413202952739\n",
      "df: 1\n"
     ]
    }
   ],
   "source": [
    "def chiSq(obs, exp):\n",
    "    chiSq = ((obs - exp) ** 2) / exp\n",
    "    return chiSq\n",
    "\n",
    "chi2 = chiSq(janF, janFexp) + chiSq(janM, janMexp) + chiSq(julF, julFexp) + chiSq(julM, julMexp)\n",
    "\n",
    "print('chi-squared: {}'.format(chi2))\n",
    "print('df: 1')"
   ]
  },
  {
   "cell_type": "markdown",
   "metadata": {},
   "source": [
    "The chi-squared value of 1915.54 implies that we can **reject the null hypothesis** that the two proportions are equal."
   ]
  },
  {
   "cell_type": "markdown",
   "metadata": {},
   "source": [
    "### Z-Test of Proportions"
   ]
  },
  {
   "cell_type": "code",
   "execution_count": 108,
   "metadata": {},
   "outputs": [
    {
     "name": "stdout",
     "output_type": "stream",
     "text": [
      "z-score: 43.76689754021037\n"
     ]
    }
   ],
   "source": [
    "pFjan = janF / janT\n",
    "pFjul = julF / julT\n",
    "\n",
    "phat = (pFjan * janT + pFjul * julT) / (janT + julT)\n",
    "sigma = np.sqrt((phat * (1 - phat) / janT) + (phat * (1 - phat) / julT))\n",
    "\n",
    "z = abs((pFjan - pFjul) / sigma)\n",
    "print('z-score: {}'.format(z))"
   ]
  },
  {
   "cell_type": "markdown",
   "metadata": {},
   "source": [
    "The z-score of $43.77$ far exceeds $z* = 1.96$, meaning that we can *reject the null hypothesis* at the 95% confidence level."
   ]
  },
  {
   "cell_type": "markdown",
   "metadata": {},
   "source": [
    "# Conclusion"
   ]
  },
  {
   "cell_type": "code",
   "execution_count": 219,
   "metadata": {},
   "outputs": [
    {
     "name": "stdout",
     "output_type": "stream",
     "text": [
      "Change in Female Ridership Proportion: -0.040330800629752\n",
      "Change in Male Ridership Proportion: 0.04033080062975203\n"
     ]
    }
   ],
   "source": [
    "print('Change in Female Ridership Proportion: {}'.format(janF / janT - julF / julT))\n",
    "print('Change in Male Ridership Proportion: {}'.format(janM / janT - julM / julT))"
   ]
  },
  {
   "cell_type": "markdown",
   "metadata": {},
   "source": [
    "Although overall Citibike ridership for both genders was considerably lower in January than July, **the proportion of female riders dropped by 4%**. This difference was statistically significant at the confidence level $\\alpha = 0.05$, meaning we can **reject the null hypothesis** that ridership for both genders dropped at equally proportional levels.\n",
    "\n",
    "Despite these statistically significant findings, the extent to which we can claim that these effects are due to temperature change or inclement weather is limited. In this study, month was used as a proxy for temperature and weather based on an understanding that the weather in January is far less suitable for biking than it is in July. However, there are a considerable number of extraneous variables which could influence this discrepency, such as the number of holidays in January versus July.\n",
    "\n",
    "In the way that it is presented now, this study risks reinforcing unfounded gender stereotypes that women are weaker (or in this case, more susceptible to cold weather) than men -- a sentiment that the author *explicitly disagrees with*.\n",
    "\n",
    "An opportunity to improve this research through future studies would be to collect daily weather and temperature data and extend the sample to all available data published by Citibike. This would allow for a more accurate illustration to be drawn about how ridership levels between male and female Citibike customers vary according to climate conditions."
   ]
  },
  {
   "cell_type": "code",
   "execution_count": 227,
   "metadata": {
    "scrolled": false
   },
   "outputs": [
    {
     "data": {
      "image/png": "[encoded data removed]",
      "text/plain": [
       "<matplotlib.figure.Figure at 0x7fe7af97a048>"
      ]
     },
     "metadata": {},
     "output_type": "display_data"
    }
   ],
   "source": [
    "tripsJan = trips[trips['month'] == 'January']\n",
    "tripsJul = trips[trips['month'] == 'July']\n",
    "\n",
    "fig, (ax1, ax2) = plt.subplots(1, 2, figsize = (16,10), sharex = True, sharey = True)\n",
    "\n",
    "ax1.bar(x = 'day', height = 'trips_female', color = 'crimson', alpha = 0.75, data = tripsJan)\n",
    "ax1.bar(x = 'day', height = 'trips_male', bottom = 'trips_female', color = 'teal', alpha = 0.75, data = tripsJan)\n",
    "ax1.set_title('January', size = 'x-large')\n",
    "ax2.bar(x = 'day', height = 'trips_female', color = 'crimson', alpha = 0.75, data = tripsJul)\n",
    "ax2.bar(x = 'day', height = 'trips_male', bottom = 'trips_female', color = 'teal', alpha = 0.75, data = tripsJul)\n",
    "ax2.set_title('July', size = 'x-large')\n",
    "\n",
    "ax1.legend(['Female', 'Male'], loc=2)\n",
    "ax2.legend(['Female', 'Male'], loc=2)\n",
    "\n",
    "ax1.set_xlabel('Day')\n",
    "ax2.set_xlabel('Day')\n",
    "ax1.set_ylabel('Riders')\n",
    "\n",
    "plt.show()"
   ]
  },
  {
   "cell_type": "markdown",
   "metadata": {},
   "source": [
    "# Figure 1: Daily Ridership Levels by Month, Gender\n",
    "\n",
    "Ridership levels for male and female Citibike customers are shown for January and July. Although the difference in overall ridership is immediately apparent, the difference in gender proportions is less clear."
   ]
  },
  {
   "cell_type": "code",
   "execution_count": 233,
   "metadata": {},
   "outputs": [
    {
     "data": {
      "image/png": "[encoded data removed]",
      "text/plain": [
       "<matplotlib.figure.Figure at 0x7fe7a75169b0>"
      ]
     },
     "metadata": {},
     "output_type": "display_data"
    }
   ],
   "source": [
    "fig, (ax1, ax2) = plt.subplots(1, 2, figsize = (16,10), sharey = True)\n",
    "\n",
    "ax1.boxplot([tripsJul.trips_female, tripsJan.trips_female])\n",
    "ax2.boxplot([tripsJul.trips_male, tripsJan.trips_male])\n",
    "\n",
    "ax1.set_title('Female')\n",
    "ax1.set_xticklabels(['July', 'January'])\n",
    "ax2.set_title('Male')\n",
    "ax2.set_xticklabels(['July', 'January'])\n",
    "ax1.set_ylabel('Riders')\n",
    "\n",
    "plt.show()"
   ]
  },
  {
   "cell_type": "markdown",
   "metadata": {},
   "source": [
    "# Figure 2: Change in Ridership by Gender, Month\n",
    "\n",
    "Although male ridership levels appear to drop by a much larger number, the *proportional* drop in female ridership is greater."
   ]
  }
 ],
 "metadata": {
  "kernelspec": {
   "display_name": "PUI2016_Python3",
   "language": "python",
   "name": "pui2016_python3"
  },
  "language_info": {
   "codemirror_mode": {
    "name": "ipython",
    "version": 3
   },
   "file_extension": ".py",
   "mimetype": "text/x-python",
   "name": "python",
   "nbconvert_exporter": "python",
   "pygments_lexer": "ipython3",
   "version": "3.5.4"
  }
 },
 "nbformat": 4,
 "nbformat_minor": 2
}
