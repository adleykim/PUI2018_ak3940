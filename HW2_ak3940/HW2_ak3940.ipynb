{
 "cells": [
  {
   "cell_type": "markdown",
   "metadata": {},
   "source": [
    "# Assignment 2"
   ]
  },
  {
   "cell_type": "code",
   "execution_count": 1,
   "metadata": {},
   "outputs": [],
   "source": [
    "import pandas as pd\n",
    "import os\n",
    "import matplotlib.pyplot as plt\n",
    "%matplotlib inline"
   ]
  },
  {
   "cell_type": "code",
   "execution_count": null,
   "metadata": {},
   "outputs": [],
   "source": [
    "puidata = os.getenv(\"PUIDATA\")\n",
    "\n",
    "#if puidata is None:\n",
    "#    os.environ[\"PUIDATA\"] = \"%s/PUIdata\"%os.getenv(\"HOME\")puidata = os.getenv(\"PUIDATA\")"
   ]
  },
  {
   "cell_type": "code",
   "execution_count": 2,
   "metadata": {},
   "outputs": [],
   "source": [
    "#Traffic Volume Counts (2012-2013) https://data.cityofnewyork.us/Transportation/Traffic-Volume-Counts-2012-2013-/p424-amsu\n",
    "csvURL = \"https://data.cityofnewyork.us/api/views/p424-amsu/rows.csv?accessType=DOWNLOAD\"\n",
    "data = pd.read_csv(csvURL)"
   ]
  },
  {
   "cell_type": "code",
   "execution_count": 8,
   "metadata": {},
   "outputs": [
    {
     "name": "stdout",
     "output_type": "stream",
     "text": [
      "   ID  Segment ID  Roadway Name        From            To Direction  \\\n",
      "0   1        2153  HUGUENOT AVE  WOODROW RD  STAFFORD AVE        NB   \n",
      "1   1        2153  HUGUENOT AVE  WOODROW RD  STAFFORD AVE        NB   \n",
      "2   1        2153  HUGUENOT AVE  WOODROW RD  STAFFORD AVE        NB   \n",
      "3   1        2153  HUGUENOT AVE  WOODROW RD  STAFFORD AVE        NB   \n",
      "4   1        2153  HUGUENOT AVE  WOODROW RD  STAFFORD AVE        NB   \n",
      "5   1        2153  HUGUENOT AVE  WOODROW RD  STAFFORD AVE        NB   \n",
      "6   1        2153  HUGUENOT AVE  WOODROW RD  STAFFORD AVE        NB   \n",
      "\n",
      "         Date  12:00-1:00 AM  1:00-2:00AM  2:00-3:00AM      ...        \\\n",
      "0  02/02/2013            106           74         45.0      ...         \n",
      "1  02/03/2013            109           74         55.0      ...         \n",
      "2  02/04/2013             36           28         11.0      ...         \n",
      "3  02/05/2013             42           28         16.0      ...         \n",
      "4  02/06/2013             35           38         12.0      ...         \n",
      "5  02/07/2013             33           26         14.0      ...         \n",
      "6  02/08/2013             35           28         18.0      ...         \n",
      "\n",
      "   2:00-3:00PM  3:00-4:00PM  4:00-5:00PM  5:00-6:00PM  6:00-7:00PM  \\\n",
      "0          371          398          324          394          379   \n",
      "1          308          291          313          253          242   \n",
      "2          426          425          419          469          425   \n",
      "3          393          479          441          476          446   \n",
      "4          383          384          391          369          401   \n",
      "5          151          409          422          364          356   \n",
      "6          430          518          461          485          531   \n",
      "\n",
      "   7:00-8:00PM  8:00-9:00PM  9:00-10:00PM  10:00-11:00PM  11:00-12:00AM  \n",
      "0          329          249           197            187            169  \n",
      "1          217          210           144            125             79  \n",
      "2          358          224           185            132             74  \n",
      "3          424          305           219            171             76  \n",
      "4          338          236           186            123             76  \n",
      "5          339          275           225            169            104  \n",
      "6          393          351           276            242            154  \n",
      "\n",
      "[7 rows x 31 columns]\n"
     ]
    }
   ],
   "source": [
    "print(data.head(n=7))"
   ]
  },
  {
   "cell_type": "code",
   "execution_count": 11,
   "metadata": {},
   "outputs": [
    {
     "name": "stdout",
     "output_type": "stream",
     "text": [
      "      3:00-4:00AM  8:00-9:00AM\n",
      "0            29.0        213.0\n",
      "1            37.0        111.0\n",
      "2            16.0        493.0\n",
      "3            12.0        499.0\n",
      "4            14.0        490.0\n",
      "5            22.0        460.0\n",
      "6            14.0        440.0\n",
      "7            32.0        217.0\n",
      "8            40.0        127.0\n",
      "9            19.0        502.0\n",
      "10           15.0        509.0\n",
      "11           16.0        500.0\n",
      "12           23.0        470.0\n",
      "13           39.0        188.0\n",
      "14           42.0        107.0\n",
      "15           10.0        402.0\n",
      "16           10.0        401.0\n",
      "17           14.0        397.0\n",
      "18           23.0        407.0\n",
      "19           16.0        395.0\n",
      "20           35.0        188.0\n",
      "21           33.0        151.0\n",
      "22           23.0        249.0\n",
      "23           17.0        173.0\n",
      "24            9.0        132.0\n",
      "25           10.0        116.0\n",
      "26           32.0        274.0\n",
      "27           33.0        200.0\n",
      "28           18.0        228.0\n",
      "29           18.0        406.0\n",
      "...           ...          ...\n",
      "5915        204.0       1235.0\n",
      "5916        271.0       4230.0\n",
      "5917        296.0       4256.0\n",
      "5918        286.0       4164.0\n",
      "5919        336.0       4421.0\n",
      "5920         16.0         65.0\n",
      "5921         16.0         56.0\n",
      "5922         14.0         94.0\n",
      "5923          3.0         41.0\n",
      "5924         17.0         27.0\n",
      "5925          2.0         99.0\n",
      "5926          5.0         91.0\n",
      "5927          4.0         99.0\n",
      "5928          9.0        113.0\n",
      "5929         20.0         56.0\n",
      "5930         29.0         62.0\n",
      "5931         16.0         86.0\n",
      "5932          7.0         41.0\n",
      "5933         16.0         32.0\n",
      "5934          4.0         82.0\n",
      "5935          3.0         74.0\n",
      "5936          9.0         69.0\n",
      "5937          7.0         79.0\n",
      "5938          9.0        133.0\n",
      "5939          6.0         44.0\n",
      "5940          8.0         44.0\n",
      "5941          4.0        123.0\n",
      "5942          3.0        124.0\n",
      "5943          8.0        115.0\n",
      "5944          5.0        128.0\n",
      "\n",
      "[5945 rows x 2 columns]\n"
     ]
    }
   ],
   "source": [
    "df = data[['3:00-4:00AM', '8:00-9:00AM']]\n",
    "print(df)"
   ]
  },
  {
   "cell_type": "code",
   "execution_count": 19,
   "metadata": {},
   "outputs": [
    {
     "data": {
      "text/plain": [
       "Text(0.5,1,'Traffic Volume (2012-2013)')"
      ]
     },
     "execution_count": 19,
     "metadata": {},
     "output_type": "execute_result"
    },
    {
     "data": {
      "image/png": "[encoded data removed]",
      "text/plain": [
       "<matplotlib.figure.Figure at 0x7fa8c42687b8>"
      ]
     },
     "metadata": {},
     "output_type": "display_data"
    }
   ],
   "source": [
    "p = df.plot.scatter('3:00-4:00AM', '8:00-9:00AM', alpha = 0.3)\n",
    "p.set_title(\"Traffic Volume (2012-2013)\")"
   ]
  },
  {
   "cell_type": "markdown",
   "metadata": {},
   "source": [
    "### Figure 1: Traffic Volume (2012 -2013)\n",
    "\n",
    "Figure 1 plots the difference in traffic volumes in the early morning versus rush hour."
   ]
  }
 ],
 "metadata": {
  "kernelspec": {
   "display_name": "PUI2016_Python3",
   "language": "python",
   "name": "pui2016_python3"
  },
  "language_info": {
   "codemirror_mode": {
    "name": "ipython",
    "version": 3
   },
   "file_extension": ".py",
   "mimetype": "text/x-python",
   "name": "python",
   "nbconvert_exporter": "python",
   "pygments_lexer": "ipython3",
   "version": "3.5.4"
  }
 },
 "nbformat": 4,
 "nbformat_minor": 2
}
