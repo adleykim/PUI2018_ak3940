{
 "cells": [
  {
   "cell_type": "code",
   "execution_count": 3,
   "metadata": {},
   "outputs": [],
   "source": [
    "import numpy as np\n",
    "import pandas as pd"
   ]
  },
  {
   "cell_type": "markdown",
   "metadata": {},
   "source": [
    "## Null Hypothesis: The alternative bus route is as slow as or slower than the current bus route.\n",
    "\n",
    "### $H_0 : \\mu_{old} - \\mu_{new} \\leq 0$\n",
    "\n",
    "## Alternative Hypothesis: The alternative bus route is significantly faster than the current bus route.\n",
    "### $H_a : \\mu_{old} - \\mu_{new} > 0$"
   ]
  },
  {
   "cell_type": "code",
   "execution_count": 25,
   "metadata": {},
   "outputs": [],
   "source": [
    "times = pd.read_csv('times.txt', header=None)\n",
    "times = times.rename(columns = {0:'time'})"
   ]
  },
  {
   "cell_type": "code",
   "execution_count": 38,
   "metadata": {},
   "outputs": [
    {
     "name": "stdout",
     "output_type": "stream",
     "text": [
      "A z score of 2.55639718617 exceeds z* = 1.96 , meaning that we reject the null hypothesis at the 95% significance level.\n",
      "The alternative bus route is faster than the current bus route at a stastically significant level.\n"
     ]
    }
   ],
   "source": [
    "alpha = 0.05\n",
    "zcrit = 1.96\n",
    "\n",
    "muPop = 36\n",
    "sdPop = 6\n",
    "muSamp = times['time'].mean()\n",
    "n = times['time'].count()\n",
    "\n",
    "z = (muPop - muSamp) / (sdPop / np.sqrt(n))\n",
    "print(\"A z score of\", z, \"exceeds z* =\", zcrit,\", meaning that we reject the null hypothesis at the 95% significance level.\")\n",
    "print(\"The alternative bus route is faster than the current bus route at a stastically significant level.\")"
   ]
  }
 ],
 "metadata": {
  "kernelspec": {
   "display_name": "PUI2016_Python3",
   "language": "python",
   "name": "pui2016_python3"
  },
  "language_info": {
   "codemirror_mode": {
    "name": "ipython",
    "version": 3
   },
   "file_extension": ".py",
   "mimetype": "text/x-python",
   "name": "python",
   "nbconvert_exporter": "python",
   "pygments_lexer": "ipython3",
   "version": "3.5.4"
  }
 },
 "nbformat": 4,
 "nbformat_minor": 2
}
